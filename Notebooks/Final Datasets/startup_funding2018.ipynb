{
 "cells": [
  {
   "cell_type": "code",
   "execution_count": 1,
   "metadata": {},
   "outputs": [],
   "source": [
    "import pandas as pd"
   ]
  },
  {
   "cell_type": "code",
   "execution_count": 2,
   "metadata": {},
   "outputs": [],
   "source": [
    "df=pd.read_csv(r'C:/Users/sylva/Downloads/startup_funding2018.csv')"
   ]
  },
  {
   "cell_type": "code",
   "execution_count": 3,
   "metadata": {},
   "outputs": [
    {
     "name": "stdout",
     "output_type": "stream",
     "text": [
      "          Company Name                                           Industry  \\\n",
      "0      TheCollegeFever  Brand Marketing, Event Promotion, Marketing, S...   \n",
      "1      Happy Cow Dairy                               Agriculture, Farming   \n",
      "2           MyLoanCare   Credit, Financial Services, Lending, Marketplace   \n",
      "3          PayMe India                        Financial Services, FinTech   \n",
      "4             Eunimart                 E-Commerce Platforms, Retail, SaaS   \n",
      "..                 ...                                                ...   \n",
      "521              Udaan   B2B, Business Development, Internet, Marketplace   \n",
      "522  Happyeasygo Group                                    Tourism, Travel   \n",
      "523             Mombay         Food and Beverage, Food Delivery, Internet   \n",
      "524         Droni Tech                             Information Technology   \n",
      "525            Netmeds         Biotechnology, Health Care, Pharmaceutical   \n",
      "\n",
      "    Round/Series       Amount                          Location  \\\n",
      "0           Seed       250000       Bangalore, Karnataka, India   \n",
      "1           Seed  ₹40,000,000        Mumbai, Maharashtra, India   \n",
      "2       Series A  ₹65,000,000           Gurgaon, Haryana, India   \n",
      "3          Angel      2000000       Noida, Uttar Pradesh, India   \n",
      "4           Seed            —  Hyderabad, Andhra Pradesh, India   \n",
      "..           ...          ...                               ...   \n",
      "521     Series C    225000000       Bangalore, Karnataka, India   \n",
      "522     Series A            —           Haryana, Haryana, India   \n",
      "523         Seed         7500        Mumbai, Maharashtra, India   \n",
      "524         Seed  ₹35,000,000        Mumbai, Maharashtra, India   \n",
      "525     Series C     35000000        Chennai, Tamil Nadu, India   \n",
      "\n",
      "                                         About Company  \n",
      "0    TheCollegeFever is a hub for fun, fiesta and f...  \n",
      "1    A startup which aggregates milk from dairy far...  \n",
      "2            Leading Online Loans Marketplace in India  \n",
      "3    PayMe India is an innovative FinTech organizat...  \n",
      "4    Eunimart is a one stop solution for merchants ...  \n",
      "..                                                 ...  \n",
      "521  Udaan is a B2B trade platform, designed specif...  \n",
      "522            HappyEasyGo is an online travel domain.  \n",
      "523  Mombay is a unique opportunity for housewives ...  \n",
      "524  Droni Tech manufacture UAVs and develop softwa...  \n",
      "525       Welcome to India's most convenient pharmacy!  \n",
      "\n",
      "[526 rows x 6 columns]\n"
     ]
    }
   ],
   "source": [
    "print(df)"
   ]
  },
  {
   "cell_type": "code",
   "execution_count": 4,
   "metadata": {},
   "outputs": [],
   "source": [
    "df.to_csv(\"2018-dataset.csv\")"
   ]
  },
  {
   "cell_type": "code",
   "execution_count": null,
   "metadata": {},
   "outputs": [],
   "source": []
  }
 ],
 "metadata": {
  "kernelspec": {
   "display_name": "Python 3",
   "language": "python",
   "name": "python3"
  },
  "language_info": {
   "codemirror_mode": {
    "name": "ipython",
    "version": 3
   },
   "file_extension": ".py",
   "mimetype": "text/x-python",
   "name": "python",
   "nbconvert_exporter": "python",
   "pygments_lexer": "ipython3",
   "version": "3.11.9"
  }
 },
 "nbformat": 4,
 "nbformat_minor": 2
}
